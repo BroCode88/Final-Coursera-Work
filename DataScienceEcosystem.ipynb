{
  "metadata": {
    "kernelspec": {
      "name": "python",
      "display_name": "Python (Pyodide)",
      "language": "python"
    },
    "language_info": {
      "codemirror_mode": {
        "name": "python",
        "version": 3
      },
      "file_extension": ".py",
      "mimetype": "text/x-python",
      "name": "python",
      "nbconvert_exporter": "python",
      "pygments_lexer": "ipython3",
      "version": "3.8"
    }
  },
  "nbformat_minor": 4,
  "nbformat": 4,
  "cells": [
    {
      "cell_type": "markdown",
      "source": "# Data Science Tools and Ecosystem",
      "metadata": {}
    },
    {
      "cell_type": "markdown",
      "source": " Data Science tools and ecosystem summarized",
      "metadata": {}
    },
    {
      "cell_type": "markdown",
      "source": "**Objectives:**\n- list of some data science languages\n- list commonly used libraries\n- Use MarKdowns\n- Create Arithmetic expressions and run them\n- Create tables\n  ",
      "metadata": {}
    },
    {
      "cell_type": "markdown",
      "source": " Example of Data Science Languages:  \n1. Python\n2. Java\n3. R\n4. Julia",
      "metadata": {}
    },
    {
      "cell_type": "markdown",
      "source": "Commonly used Data Science Lybraries:\n1. Numpy\n2. Pytorch\n3. Keras\n4. Seaborn",
      "metadata": {}
    },
    {
      "cell_type": "markdown",
      "source": "|Data Science Tools|\n|------|\n|Apache Hadoop|\n|Apache Spark|\n|Tensor Flow|\n|r studio|\n",
      "metadata": {}
    },
    {
      "cell_type": "markdown",
      "source": "### Bellow are few examples of arithmetic expressions on Python ###",
      "metadata": {}
    },
    {
      "cell_type": "code",
      "source": "(3*4)+5",
      "metadata": {
        "trusted": true
      },
      "outputs": [
        {
          "execution_count": 1,
          "output_type": "execute_result",
          "data": {
            "text/plain": "17"
          },
          "metadata": {}
        }
      ],
      "execution_count": 1
    },
    {
      "cell_type": "markdown",
      "source": "This will convert 200 minutes to hours by diving by 60",
      "metadata": {}
    },
    {
      "cell_type": "code",
      "source": "200/60",
      "metadata": {
        "trusted": true
      },
      "outputs": [
        {
          "execution_count": 3,
          "output_type": "execute_result",
          "data": {
            "text/plain": "3.3333333333333335"
          },
          "metadata": {}
        }
      ],
      "execution_count": 3
    },
    {
      "cell_type": "markdown",
      "source": "## Author ##\nGerardo Andrés Cuéllar Bonnard",
      "metadata": {}
    },
    {
      "cell_type": "code",
      "source": "",
      "metadata": {
        "trusted": true
      },
      "outputs": [],
      "execution_count": null
    }
  ]
}